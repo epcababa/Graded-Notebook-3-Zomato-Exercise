{
  "cells": [
    {
      "cell_type": "markdown",
      "source": [
        "**Author:** CABABA, ERIKA P.\n",
        "\n",
        "**Course code and section:** DATA100 S17\n",
        "\n",
        "**Student ID:** 12205030\n",
        "\n",
        "**College:** RVRCOB"
      ],
      "metadata": {
        "id": "zGGCjM83PE1O"
      },
      "id": "zGGCjM83PE1O"
    },
    {
      "cell_type": "markdown",
      "id": "174e376c",
      "metadata": {
        "id": "174e376c"
      },
      "source": [
        "# Zomato Exercise"
      ]
    },
    {
      "cell_type": "markdown",
      "id": "2d84fdf3",
      "metadata": {
        "id": "2d84fdf3"
      },
      "source": [
        "Zomato is a restaurant aggregator website. The platform provides information, menus and user-reviews of restaurants as well as food delivery options from partner restaurants in select cities. You have been provided 3 datasets:\n",
        "\n",
        "- zomato.csv contains restaurant information like average_cost_for_two, cuisines\n",
        "- location.csv contains location of the restaurants like address, city, locality & etc\n",
        "- ratings.csv contains aggregate rating for each restaurant\n",
        "\n",
        "The different files are connected using the `id` columns which can be found in the different files. The id column is a unique identifier to represent a restaurant. You can use this to **merge** the different files."
      ]
    },
    {
      "cell_type": "code",
      "execution_count": null,
      "id": "5337de5f",
      "metadata": {
        "id": "5337de5f"
      },
      "outputs": [],
      "source": [
        "import pandas as pd\n",
        "import numpy as np"
      ]
    },
    {
      "cell_type": "markdown",
      "id": "77605fbc",
      "metadata": {
        "id": "77605fbc"
      },
      "source": [
        "1. Merge the zomato, location & ratings file into a signle dataframe and store it to the `merged_df` variable **(3pts)**"
      ]
    },
    {
      "cell_type": "code",
      "source": [
        "#unzip file\n",
        "%ls\n",
        "!unzip zomato.zip"
      ],
      "metadata": {
        "colab": {
          "base_uri": "https://localhost:8080/"
        },
        "id": "SsMQUZqW1A7z",
        "outputId": "9f9682e8-aa32-471e-abfe-a2d0db3f0664"
      },
      "id": "SsMQUZqW1A7z",
      "execution_count": null,
      "outputs": [
        {
          "output_type": "stream",
          "name": "stdout",
          "text": [
            "\u001b[0m\u001b[01;34msample_data\u001b[0m/  \u001b[01;34mzomato\u001b[0m/  zomato.zip\n",
            "Archive:  zomato.zip\n",
            "replace zomato/location.csv? [y]es, [n]o, [A]ll, [N]one, [r]ename: y\n",
            "  inflating: zomato/location.csv     \n",
            "replace zomato/ratings.csv? [y]es, [n]o, [A]ll, [N]one, [r]ename: y\n",
            "  inflating: zomato/ratings.csv      \n",
            "replace zomato/zomato.csv? [y]es, [n]o, [A]ll, [N]one, [r]ename: y\n",
            "  inflating: zomato/zomato.csv       \n"
          ]
        }
      ]
    },
    {
      "cell_type": "code",
      "execution_count": 82,
      "id": "ddbd0bb1",
      "metadata": {
        "id": "ddbd0bb1",
        "colab": {
          "base_uri": "https://localhost:8080/"
        },
        "outputId": "b003a2a5-4454-42ed-e991-4cec367bb399"
      },
      "outputs": [
        {
          "output_type": "stream",
          "name": "stdout",
          "text": [
            "         id  average_cost_for_two book_url  \\\n",
            "0   6316125                  1000      NaN   \n",
            "1  18409457                  1300      NaN   \n",
            "2   6307689                  1600      NaN   \n",
            "3  18581637                  1000      NaN   \n",
            "4   6315438                  3000      NaN   \n",
            "\n",
            "                                     cuisines currency  \\\n",
            "0                             Japanese, Ramen        P   \n",
            "1                   Korean, Grill, Korean BBQ        P   \n",
            "2                          American, Filipino        P   \n",
            "3                                      Korean        P   \n",
            "4  Seafood, American, Mediterranean, Japanese        P   \n",
            "\n",
            "                       deeplink  \\\n",
            "0   zomato://restaurant/6316125   \n",
            "1  zomato://restaurant/18409457   \n",
            "2   zomato://restaurant/6307689   \n",
            "3  zomato://restaurant/18581637   \n",
            "4   zomato://restaurant/6315438   \n",
            "\n",
            "                                          events_url  \\\n",
            "0  https://www.zomato.com/manila/mendokoro-ramenb...   \n",
            "1  https://www.zomato.com/manila/soban-k-town-gri...   \n",
            "2  https://www.zomato.com/manila/filling-station-...   \n",
            "3  https://www.zomato.com/manila/romantic-baboy-t...   \n",
            "4  https://www.zomato.com/manila/niu-by-vikings-b...   \n",
            "\n",
            "                                      featured_image  has_online_delivery  \\\n",
            "0  https://b.zmtcdn.com/data/reviews_photos/971/2...                    0   \n",
            "1  https://b.zmtcdn.com/data/res_imagery/18290970...                    0   \n",
            "2  https://b.zmtcdn.com/data/pictures/9/6307689/b...                    0   \n",
            "3  https://b.zmtcdn.com/data/reviews_photos/cc1/a...                    0   \n",
            "4  https://b.zmtcdn.com/data/pictures/chains/8/63...                    0   \n",
            "\n",
            "   has_table_booking  ...  country_id   latitude  \\\n",
            "0                  0  ...         162  14.560313   \n",
            "1                  0  ...         162  14.552137   \n",
            "2                  0  ...         162  14.563144   \n",
            "3                  0  ...         162  14.633713   \n",
            "4                  0  ...         162  14.546236   \n",
            "\n",
            "                                            locality  \\\n",
            "0                                    Salcedo Village   \n",
            "1              Greenbelt 3, San Lorenzo, Makati City   \n",
            "2                                          Poblacion   \n",
            "3                                       Tomas Morato   \n",
            "4  SM Aura Premier, Bonifacio Global City, Taguig...   \n",
            "\n",
            "                                    locality_verbose   longitude zipcode  \\\n",
            "0                       Salcedo Village, Makati City  121.024638     NaN   \n",
            "1  Greenbelt 3, San Lorenzo, Makati City, Makati ...  121.021325     NaN   \n",
            "2                             Poblacion, Makati City  121.029800  1210.0   \n",
            "3                          Tomas Morato, Quezon City  121.035026     NaN   \n",
            "4  SM Aura Premier, Bonifacio Global City, Taguig...  121.054365     NaN   \n",
            "\n",
            "  aggregate_rating rating_color rating_text  votes  \n",
            "0              4.9       3F7E00   Excellent   1394  \n",
            "1              4.6       3F7E00   Excellent    602  \n",
            "2              4.0       5BA829   Very Good    563  \n",
            "3              4.0       5BA829   Very Good    413  \n",
            "4              4.6       3F7E00   Excellent    960  \n",
            "\n",
            "[5 rows x 35 columns]\n"
          ]
        }
      ],
      "source": [
        "#loading files\n",
        "zomato = pd.read_csv('zomato/zomato.csv')\n",
        "location = pd.read_csv('zomato/location.csv')\n",
        "ratings = pd.read_csv('zomato/ratings.csv')\n",
        "\n",
        "#merging files\n",
        "merged_df = pd.merge(zomato, location, on='id')\n",
        "merged_df = pd.merge(merged_df, ratings, on='id')\n",
        "\n",
        "#assertions (given)\n",
        "assert (6830, 35)==merged_df.shape\n",
        "\n",
        "cols = ['id', 'address', 'city', 'city_id', 'country_id', 'latitude',\n",
        "       'locality', 'locality_verbose', 'longitude', 'zipcode',\n",
        "       'aggregate_rating', 'rating_color', 'rating_text', 'votes',\n",
        "       'average_cost_for_two', 'book_url', 'cuisines', 'currency', 'deeplink',\n",
        "       'events_url', 'featured_image', 'has_online_delivery',\n",
        "       'has_table_booking', 'include_bogo_offers', 'is_book_form_web_view',\n",
        "       'is_delivering_now', 'is_table_reservation_supported',\n",
        "       'is_zomato_book_res', 'menu_url', 'mezzo_provider', 'name',\n",
        "       'photos_url', 'price_range', 'thumb', 'url']\n",
        "\n",
        "assert sorted(merged_df.columns) == sorted(cols)\n",
        "\n",
        "print(merged_df.head())\n",
        "\n",
        "#reference: https://colab.research.google.com/github/jakevdp/PythonDataScienceHandbook/blob/master/notebooks/03.07-Merge-and-Join.ipynb#:~:text=2014-,The%20pd.,information%20from%20the%20two%20inputs."
      ]
    },
    {
      "cell_type": "markdown",
      "id": "02223abe",
      "metadata": {
        "id": "02223abe"
      },
      "source": [
        "2. Create a function that returns the average aggregate rating for each city. Expected returned value is a Series datatype which contains name of city as index and average aggregate rating as value. **(2pts)**"
      ]
    },
    {
      "cell_type": "code",
      "source": [
        "#define a function that returns the aggregate rating for each city\n",
        "def exercise_2(merged_df):\n",
        "    \"\"\"\n",
        "    Parameters:\n",
        "    merged_df (DataFrame): the merged dataframe\n",
        "\n",
        "    Returns:\n",
        "    Series: a series containing the average aggregate rating for each city\n",
        "    \"\"\"\n",
        "\n",
        "    # group by 'city' and calculate the mean of 'aggregate_rating'\n",
        "    res_series = merged_df.groupby('city')['aggregate_rating'].mean()\n",
        "\n",
        "    #return the result as a panda series\n",
        "    return res_series\n",
        "\n",
        "res_series = exercise_2(merged_df)\n",
        "\n",
        "print(res_series)\n",
        "\n",
        "assert True == np.isclose(3.302075, res_series[res_series.index == 'Pasay City'],\n",
        "                          rtol=1e-05, atol=1e-08, equal_nan=False)[0]\n",
        "assert True == np.isclose(1.890741, res_series[res_series.index == 'Valenzuela City'],\n",
        "                          rtol=1e-05, atol=1e-08, equal_nan=False)[0]\n",
        "assert True == np.isclose(1.558333, res_series[res_series.index == 'Malabon City'],\n",
        "                          rtol=1e-05, atol=1e-08, equal_nan=False)[0]\n",
        "\n",
        "#reference: https://www.geeksforgeeks.org/python-pandas-dataframe-groupby/"
      ],
      "metadata": {
        "colab": {
          "base_uri": "https://localhost:8080/"
        },
        "id": "EgQU9RLg2uGr",
        "outputId": "41aac643-3962-4f51-f4e6-ae949efa42f7"
      },
      "id": "EgQU9RLg2uGr",
      "execution_count": 81,
      "outputs": [
        {
          "output_type": "stream",
          "name": "stdout",
          "text": [
            "city\n",
            "Caloocan City       1.953509\n",
            "Las Piñas City      2.855738\n",
            "Makati City         3.250512\n",
            "Malabon City        1.558333\n",
            "Mandaluyong City    2.951919\n",
            "Manila              2.842652\n",
            "Marikina City       2.672512\n",
            "Muntinlupa City     2.962682\n",
            "Parañaque City      3.130100\n",
            "Pasay City          3.302075\n",
            "Pasig City          2.916086\n",
            "Pateros City        1.740000\n",
            "Quezon City         2.887946\n",
            "San Juan City       3.098462\n",
            "Tagaytay City       2.959259\n",
            "Taguig City         3.234105\n",
            "Valenzuela City     1.890741\n",
            "Name: aggregate_rating, dtype: float64\n"
          ]
        }
      ]
    },
    {
      "cell_type": "markdown",
      "id": "5db591ac",
      "metadata": {
        "id": "5db591ac"
      },
      "source": [
        "3. Using the apply function of pandas convert the rating_text to a numeric equivalent. You are to introduce a new column in merged_df called `rating_numeric` which is based on the value from rating_text: **(3pts)**\n",
        "\n",
        "Excellent = 5 <br>\n",
        "Very Good = 4 <br>\n",
        "Good = 3 <br>\n",
        "Average = 2 <br>\n",
        "Poor = 1 <br>\n",
        "Not rated = 0 <br>"
      ]
    },
    {
      "cell_type": "code",
      "execution_count": 80,
      "id": "41293771",
      "metadata": {
        "id": "41293771",
        "colab": {
          "base_uri": "https://localhost:8080/"
        },
        "outputId": "dd90b0b9-9632-4e48-af5b-fe7b558b35ae"
      },
      "outputs": [
        {
          "output_type": "stream",
          "name": "stdout",
          "text": [
            "  rating_text  rating_numeric\n",
            "0   Excellent               5\n",
            "1   Excellent               5\n",
            "2   Very Good               4\n",
            "3   Very Good               4\n",
            "4   Excellent               5\n"
          ]
        }
      ],
      "source": [
        "#return rating_text to a corresponding numeric value\n",
        "def map_ratingtext_to_numeric(rating_text):\n",
        "  if rating_text == \"Excellent\":\n",
        "    return 5\n",
        "  elif rating_text == \"Very Good\":\n",
        "    return 4\n",
        "  elif rating_text == \"Good\":\n",
        "    return 3\n",
        "  elif rating_text == \"Average\":\n",
        "    return 2\n",
        "  elif rating_text == \"Poor\":\n",
        "    return 1\n",
        "  elif rating_text == \"Not rated\":\n",
        "    return 0\n",
        "  else:\n",
        "    return None\n",
        "\n",
        "#creating a new column using the apply function\n",
        "merged_df['rating_numeric'] = merged_df['rating_text'].apply(map_ratingtext_to_numeric)\n",
        "\n",
        "#assertions (given)\n",
        "assert 868 == merged_df[merged_df.rating_numeric == 0].shape[0]\n",
        "assert True == ('rating_numeric' in merged_df.columns)\n",
        "\n",
        "print(merged_df[['rating_text','rating_numeric']].head())\n",
        "\n",
        "#reference: https://www.digitalocean.com/community/tutorials/pandas-dataframe-apply-examples"
      ]
    },
    {
      "cell_type": "markdown",
      "id": "97ec4197",
      "metadata": {
        "id": "97ec4197"
      },
      "source": [
        "4. Create a function which filters the merged dataframe to only contain rows coming in from a specific city. Expected returned value is a dataframe **(2pts)**"
      ]
    },
    {
      "cell_type": "code",
      "execution_count": 79,
      "id": "9773b18e",
      "metadata": {
        "id": "9773b18e",
        "colab": {
          "base_uri": "https://localhost:8080/"
        },
        "outputId": "ed454bfc-27ad-4de2-ac0f-122f71423767"
      },
      "outputs": [
        {
          "output_type": "stream",
          "name": "stdout",
          "text": [
            "Filtered DataFrame for Makati city:\n",
            "            id  average_cost_for_two book_url                   cuisines  \\\n",
            "0      6316125                  1000      NaN            Japanese, Ramen   \n",
            "1     18409457                  1300      NaN  Korean, Grill, Korean BBQ   \n",
            "2      6307689                  1600      NaN         American, Filipino   \n",
            "7      6304287                  1200      NaN                   Japanese   \n",
            "10     6304833                   700      NaN                   Filipino   \n",
            "...        ...                   ...      ...                        ...   \n",
            "6598  18303726                   700      NaN     Healthy Food, Japanese   \n",
            "6753   6301694                  1200      NaN                   Filipino   \n",
            "6758  18351649                  1100      NaN                Finger Food   \n",
            "6815   6317082                   500      NaN                 Vietnamese   \n",
            "6817  18340454                   500      NaN                 Vietnamese   \n",
            "\n",
            "     currency                      deeplink  \\\n",
            "0           P   zomato://restaurant/6316125   \n",
            "1           P  zomato://restaurant/18409457   \n",
            "2           P   zomato://restaurant/6307689   \n",
            "7           P   zomato://restaurant/6304287   \n",
            "10          P   zomato://restaurant/6304833   \n",
            "...       ...                           ...   \n",
            "6598        P  zomato://restaurant/18303726   \n",
            "6753        P   zomato://restaurant/6301694   \n",
            "6758        P  zomato://restaurant/18351649   \n",
            "6815        P   zomato://restaurant/6317082   \n",
            "6817        P  zomato://restaurant/18340454   \n",
            "\n",
            "                                             events_url  \\\n",
            "0     https://www.zomato.com/manila/mendokoro-ramenb...   \n",
            "1     https://www.zomato.com/manila/soban-k-town-gri...   \n",
            "2     https://www.zomato.com/manila/filling-station-...   \n",
            "7     https://www.zomato.com/manila/izakaya-kikufuji...   \n",
            "10    https://www.zomato.com/manila/manam-greenbelt-...   \n",
            "...                                                 ...   \n",
            "6598  https://www.zomato.com/manila/uniquease-valenz...   \n",
            "6753  https://www.zomato.com/manila/xo-46-new-visaya...   \n",
            "6758  https://www.zomato.com/manila/pappy-bistro-leg...   \n",
            "6815  https://www.zomato.com/manila/jam-viet-sandwic...   \n",
            "6817  https://www.zomato.com/manila/jam-viet-sandwic...   \n",
            "\n",
            "                                         featured_image  has_online_delivery  \\\n",
            "0     https://b.zmtcdn.com/data/reviews_photos/971/2...                    0   \n",
            "1     https://b.zmtcdn.com/data/res_imagery/18290970...                    0   \n",
            "2     https://b.zmtcdn.com/data/pictures/9/6307689/b...                    0   \n",
            "7     https://b.zmtcdn.com/data/res_imagery/6304287_...                    0   \n",
            "10    https://b.zmtcdn.com/data/pictures/chains/3/63...                    0   \n",
            "...                                                 ...                  ...   \n",
            "6598                                                NaN                    0   \n",
            "6753  https://b.zmtcdn.com/data/reviews_photos/a1d/f...                    0   \n",
            "6758  https://b.zmtcdn.com/data/res_imagery/18351649...                    0   \n",
            "6815  https://b.zmtcdn.com/data/reviews_photos/e9d/e...                    0   \n",
            "6817  https://b.zmtcdn.com/data/reviews_photos/e9d/e...                    0   \n",
            "\n",
            "      has_table_booking  ...   latitude  \\\n",
            "0                     0  ...  14.560313   \n",
            "1                     0  ...  14.552137   \n",
            "2                     0  ...  14.563144   \n",
            "7                     0  ...  14.553708   \n",
            "10                    0  ...  14.551920   \n",
            "...                 ...  ...        ...   \n",
            "6598                  0  ...  14.571504   \n",
            "6753                  0  ...  14.558378   \n",
            "6758                  0  ...  14.557238   \n",
            "6815                  0  ...  14.568501   \n",
            "6817                  0  ...  14.564902   \n",
            "\n",
            "                                        locality  \\\n",
            "0                                Salcedo Village   \n",
            "1          Greenbelt 3, San Lorenzo, Makati City   \n",
            "2                                      Poblacion   \n",
            "7     Little Tokyo, Legaspi Village, Makati City   \n",
            "10         Greenbelt 2, San Lorenzo, Makati City   \n",
            "...                                          ...   \n",
            "6598                                  Valenzuela   \n",
            "6753                             Salcedo Village   \n",
            "6758                             Legaspi Village   \n",
            "6815                                  Santa Cruz   \n",
            "6817                                     Palanan   \n",
            "\n",
            "                                       locality_verbose   longitude  zipcode  \\\n",
            "0                          Salcedo Village, Makati City  121.024638      NaN   \n",
            "1     Greenbelt 3, San Lorenzo, Makati City, Makati ...  121.021325      NaN   \n",
            "2                                Poblacion, Makati City  121.029800   1210.0   \n",
            "7     Little Tokyo, Legaspi Village, Makati City, Ma...  121.014101      NaN   \n",
            "10    Greenbelt 2, San Lorenzo, Makati City, Makati ...  121.020485      NaN   \n",
            "...                                                 ...         ...      ...   \n",
            "6598                            Valenzuela, Makati City  121.024976      NaN   \n",
            "6753                       Salcedo Village, Makati City  121.022078      NaN   \n",
            "6758                       Legaspi Village, Makati City  121.016854      NaN   \n",
            "6815                            Santa Cruz, Makati City  121.013978      NaN   \n",
            "6817                               Palanan, Makati City  121.002089      NaN   \n",
            "\n",
            "     aggregate_rating rating_color rating_text votes  rating_numeric  \n",
            "0                 4.9       3F7E00   Excellent  1394               5  \n",
            "1                 4.6       3F7E00   Excellent   602               5  \n",
            "2                 4.0       5BA829   Very Good   563               4  \n",
            "7                 4.5       3F7E00   Excellent  1031               5  \n",
            "10                4.5       3F7E00   Excellent   700               5  \n",
            "...               ...          ...         ...   ...             ...  \n",
            "6598              0.0       CBCBC8   Not rated     3               0  \n",
            "6753              3.2       CDD614     Average    15               2  \n",
            "6758              3.1       CDD614     Average    13               2  \n",
            "6815              3.5       9ACD32        Good    30               3  \n",
            "6817              3.4       CDD614     Average    16               2  \n",
            "\n",
            "[976 rows x 36 columns]\n"
          ]
        }
      ],
      "source": [
        "#define a function that filters the merged df to only contain rows from the specified city\n",
        "def exercise_4(merged_df, city):\n",
        "  \"\"\"\n",
        "  Parameters:\n",
        "  merged_df (DataFrame): the merged dataframe\n",
        "  city (str): the city to filter\n",
        "\n",
        "  Returns:\n",
        "  DataFrame: filtered df with only rows from the specified city\n",
        "  \"\"\"\n",
        "\n",
        "  filtered_df = merged_df[merged_df['city'] == city]\n",
        "  return filtered_df\n",
        "\n",
        "#example: 'Makati City'\n",
        "result_makati = exercise_4(merged_df, 'Makati City')\n",
        "print(\"Filtered DataFrame for Makati city:\")\n",
        "print(result_makati)\n",
        "\n",
        "#assertions (given)\n",
        "assert 'Makati City' == exercise_4(merged_df, 'Makati City').city.unique()[0]\n",
        "assert (976, 36) == exercise_4(merged_df, 'Makati City').shape\n",
        "\n",
        "assert 'Mandaluyong City' == exercise_4(merged_df, 'Mandaluyong City').city.unique()[0]\n",
        "assert (443, 36) == exercise_4(merged_df, 'Mandaluyong City').shape\n",
        "\n",
        "assert (0, 36) == exercise_4(merged_df, 'Quezon  City').shape\n",
        "\n",
        "#reference: https://www.geeksforgeeks.org/python-pandas-dataframe-filter/"
      ]
    },
    {
      "cell_type": "markdown",
      "id": "ca7bf3c1",
      "metadata": {
        "id": "ca7bf3c1"
      },
      "source": [
        "5. Create a function to filter the dataframe to only contain certain columns passed in the function. Expected returned value is a dataframe **(1pt)**"
      ]
    },
    {
      "cell_type": "code",
      "execution_count": 78,
      "id": "59787577",
      "metadata": {
        "id": "59787577",
        "colab": {
          "base_uri": "https://localhost:8080/"
        },
        "outputId": "e4432549-6754-415e-dc1e-c8109e81794c"
      },
      "outputs": [
        {
          "output_type": "stream",
          "name": "stdout",
          "text": [
            "Filtered DataFrame with specified columns: \n",
            "                           name                                    cuisines  \\\n",
            "0             Mendokoro Ramenba                             Japanese, Ramen   \n",
            "1            Soban K-Town Grill                   Korean, Grill, Korean BBQ   \n",
            "2               Filling Station                          American, Filipino   \n",
            "3                Romantic Baboy                                      Korean   \n",
            "4                NIU by Vikings  Seafood, American, Mediterranean, Japanese   \n",
            "...                         ...                                         ...   \n",
            "6825              Trader Juan's                              Deli, Filipino   \n",
            "6826                   Jollibee                                   Fast Food   \n",
            "6827                 Goldilocks                            Bakery, Filipino   \n",
            "6828  Red Buffalo Wings & Pizza                           American, Italian   \n",
            "6829                  Greenwich                            Pizza, Fast Food   \n",
            "\n",
            "                 city  aggregate_rating  \n",
            "0         Makati City               4.9  \n",
            "1         Makati City               4.6  \n",
            "2         Makati City               4.0  \n",
            "3         Quezon City               4.0  \n",
            "4         Taguig City               4.6  \n",
            "...               ...               ...  \n",
            "6825  Muntinlupa City               2.9  \n",
            "6826    Caloocan City               3.0  \n",
            "6827    Caloocan City               0.0  \n",
            "6828      Quezon City               3.7  \n",
            "6829    Caloocan City               0.0  \n",
            "\n",
            "[6830 rows x 4 columns]\n"
          ]
        }
      ],
      "source": [
        "#define a function that filters the merged df to contain only specified columns\n",
        "def exercise_5(merged_df, cols_to_filter):\n",
        "    \"\"\"\n",
        "    Parameters:\n",
        "    merged_df (DataFrame): the merged dataframe\n",
        "    cols_to_filter (list): list of columns to be included in filtered df\n",
        "\n",
        "    Returns:\n",
        "    DataFrame: a filtered df containing onling specified columns\n",
        "    \"\"\"\n",
        "\n",
        "    filtered_df = merged_df[cols_to_filter]\n",
        "    return filtered_df\n",
        "\n",
        "#Example:\n",
        "cols = ['name', 'cuisines', 'city', 'aggregate_rating']\n",
        "filtered_df_example = exercise_5(merged_df, cols)\n",
        "print(\"Filtered DataFrame with specified columns: \")\n",
        "print(filtered_df_example)\n",
        "\n",
        "#assertions (given)\n",
        "assert sorted(cols) == sorted(exercise_5(merged_df, cols).columns)\n",
        "assert (6830, 4) == exercise_5(merged_df, cols).shape\n",
        "\n",
        "cols = ['average_cost_for_two', 'book_url', 'cuisines', 'currency', 'deeplink',\n",
        "       'events_url', 'featured_image', 'has_online_delivery',\n",
        "       'has_table_booking', 'include_bogo_offers', 'is_book_form_web_view']\n",
        "assert sorted(cols) == sorted(exercise_5(merged_df, cols).columns)\n",
        "assert (6830, 11) == exercise_5(merged_df, cols).shape\n",
        "\n",
        "#reference: https://www.geeksforgeeks.org/python-pandas-dataframe-filter/"
      ]
    },
    {
      "cell_type": "markdown",
      "id": "d69c7e2e",
      "metadata": {
        "id": "d69c7e2e"
      },
      "source": [
        "6.  What is the most common restaurant name in the dataset? **(2pts)** Write down your answer and show code used to come up with the answer."
      ]
    },
    {
      "cell_type": "code",
      "execution_count": 77,
      "id": "cf9cdab1",
      "metadata": {
        "id": "cf9cdab1",
        "colab": {
          "base_uri": "https://localhost:8080/"
        },
        "outputId": "95a112ae-e8a8-40af-a1f1-25a202973eab"
      },
      "outputs": [
        {
          "output_type": "stream",
          "name": "stdout",
          "text": [
            "The most common restaurant name in the dataset is Starbucks with 99 occurences\n"
          ]
        }
      ],
      "source": [
        "#use value_counts() to count the occurences of a value, and idxmax() to retrieve the restaurant name, max() retrieves the highest count\n",
        "most_common_name = merged_df['name'].value_counts().idxmax()\n",
        "count_of_most_common_name = merged_df['name'].value_counts().max()\n",
        "\n",
        "print(f\"The most common restaurant name in the dataset is {most_common_name} with {count_of_most_common_name} occurences\")\n",
        "\n",
        "#reference: https://www.w3schools.com/python/pandas/ref_df_idxmax.asp"
      ]
    },
    {
      "cell_type": "markdown",
      "id": "7675b4b1",
      "metadata": {
        "id": "7675b4b1"
      },
      "source": [
        "7. Which restaurant has the most expensive average cost for two? **(2pts)** Write down your answer and show code used to come up with the answer."
      ]
    },
    {
      "cell_type": "code",
      "execution_count": 76,
      "id": "b447b440",
      "metadata": {
        "id": "b447b440",
        "colab": {
          "base_uri": "https://localhost:8080/"
        },
        "outputId": "5fe1cb7c-0c2a-4a74-f859-172af8aa0822"
      },
      "outputs": [
        {
          "output_type": "stream",
          "name": "stdout",
          "text": [
            "The Tasting Room is the most expensive restaurant with an average cost for two of Php 10,000.00\n"
          ]
        }
      ],
      "source": [
        "#use idxmax() to retreive the restaurant name (index) with the highest cost, loc[] to access the row corresponding to that index\n",
        "most_expensive_restaurant = merged_df.loc[merged_df['average_cost_for_two'].idxmax()]\n",
        "\n",
        "#extract the name and average cost from the series\n",
        "restaurant_name = most_expensive_restaurant['name']\n",
        "average_cost = most_expensive_restaurant['average_cost_for_two']\n",
        "\n",
        "print(f\"{restaurant_name} is the most expensive restaurant with an average cost for two of Php {average_cost:,.2f}\")\n",
        "\n",
        "#reference: https://www.w3schools.com/python/pandas/ref_df_idxmax.asp"
      ]
    },
    {
      "cell_type": "markdown",
      "id": "af873fb7",
      "metadata": {
        "id": "af873fb7"
      },
      "source": [
        "8. How many restaurants do not have a zipcode? **(1pt)** Write down your answer and show code used to come up with the answer."
      ]
    },
    {
      "cell_type": "code",
      "execution_count": 75,
      "id": "43f1234a",
      "metadata": {
        "id": "43f1234a",
        "colab": {
          "base_uri": "https://localhost:8080/"
        },
        "outputId": "ed4e03a9-c6d9-421b-ed40-7d5d9c9d964b"
      },
      "outputs": [
        {
          "output_type": "stream",
          "name": "stdout",
          "text": [
            "6,713 restaurants do not have a zipcode\n"
          ]
        }
      ],
      "source": [
        "#isnull() to check for missing values (True = missing values), sum() is used to count the number of these missing values/True values\n",
        "count_without_zipcode = merged_df['zipcode'].isnull().sum()\n",
        "\n",
        "print(f\"{count_without_zipcode:,} restaurants do not have a zipcode\")\n",
        "\n",
        "#reference: https://www.w3schools.com/python/pandas/ref_df_isnull.asp"
      ]
    },
    {
      "cell_type": "markdown",
      "id": "9347ac03",
      "metadata": {
        "id": "9347ac03"
      },
      "source": [
        "9. How many restaurants in the dataset allow online delivery? **(1pt)** Write down your answer and show code used to come up with the answer."
      ]
    },
    {
      "cell_type": "code",
      "execution_count": 74,
      "id": "24b62212",
      "metadata": {
        "id": "24b62212",
        "colab": {
          "base_uri": "https://localhost:8080/"
        },
        "outputId": "01e4965a-9d26-4ce1-edd5-000dd782b78a"
      },
      "outputs": [
        {
          "output_type": "stream",
          "name": "stdout",
          "text": [
            "0 restaurants allow online delivery\n"
          ]
        }
      ],
      "source": [
        "#has_online_delivery contains boolean values, sum() counts the number of True values\n",
        "count_with_online_delivery = merged_df['has_online_delivery'].sum()\n",
        "\n",
        "print(f\"{count_with_online_delivery} restaurants allow online delivery\")"
      ]
    },
    {
      "cell_type": "markdown",
      "id": "7f2c7aa3",
      "metadata": {
        "id": "7f2c7aa3"
      },
      "source": [
        "10. Which locatlity has more expensive food? Poblacion or Salcedo Village? **(3pts)** Write down your answer and show code used to come up with the answer.\n"
      ]
    },
    {
      "cell_type": "code",
      "execution_count": 68,
      "id": "8fb7ce16",
      "metadata": {
        "id": "8fb7ce16",
        "colab": {
          "base_uri": "https://localhost:8080/"
        },
        "outputId": "67f360e6-d46b-49b5-e0e3-40027b943f7f"
      },
      "outputs": [
        {
          "output_type": "stream",
          "name": "stdout",
          "text": [
            "The average cost for two in Poblacion is Php 898.21\n",
            "The average cost for two in Salcedo Village is Php 989.10\n",
            "\n",
            "Salcedo Village is has more expensive food with an average cost of 989.10\n"
          ]
        }
      ],
      "source": [
        "#filtering the df for Poblacion and Salcedo Village localities\n",
        "poblacion_avg_cost = merged_df[merged_df['locality'] == 'Poblacion']['average_cost_for_two'].mean()\n",
        "salcedo_avg_cost = merged_df[merged_df['locality'] == 'Salcedo Village']['average_cost_for_two'].mean()\n",
        "\n",
        "print(f\"The average cost for two in Poblacion is Php {poblacion_avg_cost:.2f}\")\n",
        "print(f\"The average cost for two in Salcedo Village is Php {salcedo_avg_cost:.2f}\")\n",
        "print()\n",
        "\n",
        "#determines which locality has more expensive food\n",
        "if poblacion_avg_cost > salcedo_avg_cost:\n",
        "  more_expensive_locality = 'Poblacion'\n",
        "  more_expensive_cost = poblacion_avg_cost\n",
        "\n",
        "else:\n",
        "  more_expensive_locality = 'Salcedo Village'\n",
        "  more_expensive_cost = salcedo_avg_cost\n",
        "\n",
        "print(f\"{more_expensive_locality} is has more expensive food with an average cost of {more_expensive_cost:,.2f}\")\n",
        "\n",
        "#reference: https://colab.research.google.com/github/khuyentran1401/Efficient_Python_tricks_and_tools_for_data_scientists/blob/master/Chapter3/filter.ipynb"
      ]
    }
  ],
  "metadata": {
    "kernelspec": {
      "display_name": "Python 3",
      "language": "python",
      "name": "python3"
    },
    "language_info": {
      "codemirror_mode": {
        "name": "ipython",
        "version": 3
      },
      "file_extension": ".py",
      "mimetype": "text/x-python",
      "name": "python",
      "nbconvert_exporter": "python",
      "pygments_lexer": "ipython3",
      "version": "3.7.7"
    },
    "colab": {
      "provenance": []
    }
  },
  "nbformat": 4,
  "nbformat_minor": 5
}